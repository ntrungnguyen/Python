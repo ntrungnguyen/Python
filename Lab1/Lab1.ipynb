{
 "cells": [
  {
   "cell_type": "code",
   "execution_count": null,
   "metadata": {},
   "outputs": [],
   "source": [
    "##Bài 1: Hoàn thành 25/150 bài tập cơ bản ở trang: https://www.w3resource.com/python-exercises/python-basic-exercises.php"
   ]
  },
  {
   "cell_type": "code",
   "execution_count": null,
   "metadata": {},
   "outputs": [],
   "source": [
    "## 1/150 Write a Python program to print the following string in a specific format (see the output).\n",
    "print(\"Twinkle, twinkle, little star, \\n\\tHow I wonder what you are! \\n\\t\\tUp above the world so high, \\n\\t\\tLike a diamond in the sky. \\nTwinkle, twinkle, little star, \\n\\tHow I wonder what you are!\")\n",
    "\n",
    "print(\"\\n 2:\\n\")\n",
    "print(\"Twinkle, twinkle, little star,\")\n",
    "print(\"How I wonder what you are!\".rjust(35))\n",
    "print(\"Up above the world so high\".rjust(45))\n",
    "print(\"Like a diamond in the sky.\".rjust(45))\n",
    "print(\"Twinkle, twinkle, little star,\")\n",
    "print(\"How I wonder what you are!\".rjust(35))"
   ]
  },
  {
   "cell_type": "code",
   "execution_count": null,
   "metadata": {},
   "outputs": [],
   "source": [
    "## 2/150 Write a Python program to get the Python version you are using.\n",
    "import platform\n",
    "import sys\n",
    "\n",
    "print(\"Python version:\", platform.python_version())\n",
    "print(\"Tuple:\",platform.python_version_tuple())\n",
    "print(\"Type:\",type(platform.python_version_tuple()))\n",
    "print(\"Python version:\",sys.version,\"\\nVersion info:\",sys.version_info)\n"
   ]
  },
  {
   "cell_type": "code",
   "execution_count": null,
   "metadata": {},
   "outputs": [],
   "source": [
    "## 3/150 Write a Python program to display the current date and time.\n",
    "import datetime\n",
    "\n",
    "now = datetime.datetime.now()\n",
    "print(\"Current date and time: \", now.strftime(\"%Y-%m-%d %H:%M:%S\"))"
   ]
  },
  {
   "cell_type": "code",
   "execution_count": null,
   "metadata": {},
   "outputs": [],
   "source": [
    "## 4/150 Write a Python program which accepts the radius of a circle from the user and compute the area.\n",
    "from math import pi\n",
    "\n",
    "r = float(input (\"Input the radius of the circle: \"))\n",
    "print(\"The area of the circle with radius = \" + str(r) + \" is:\\n S = \" + str(pi * r ** 2))"
   ]
  },
  {
   "cell_type": "code",
   "execution_count": null,
   "metadata": {},
   "outputs": [],
   "source": [
    "## 5/150 Write a Python program which accepts the user's first and last name and print them in reverse order with a space between them.\n",
    "fname = input(\"Input your first name: \")\n",
    "lname = input(\"Input your last name: \")\n",
    "print(\"Hello \" + lname + \" \" + fname)"
   ]
  },
  {
   "cell_type": "code",
   "execution_count": 1,
   "metadata": {},
   "outputs": [
    {
     "name": "stdout",
     "output_type": "stream",
     "text": [
      "Hello trung nguyen\n"
     ]
    }
   ],
   "source": [
    "fname = input(\"Input your first name: \")\n",
    "lname = input(\"Input your last name: \")\n",
    "print(f\"Hello {fname} {lname}\")\n",
    "print((\"hello {} {}\").format(fname, lname))"
   ]
  },
  {
   "cell_type": "code",
   "execution_count": null,
   "metadata": {},
   "outputs": [],
   "source": []
  },
  {
   "cell_type": "code",
   "execution_count": null,
   "metadata": {},
   "outputs": [],
   "source": [
    "## 6/150 Write a Python program which accepts a sequence of comma-separated numbers from user and generate a list and a tuple with those numbers.\n",
    "values = input(\"Input some comma seprated numbers: \")\n",
    "list = values.split(\",\")\n",
    "tuple = tuple(list)\n",
    "print(\"List: \", list)\n",
    "print(\"Tuple: \", tuple)"
   ]
  },
  {
   "cell_type": "code",
   "execution_count": null,
   "metadata": {},
   "outputs": [],
   "source": [
    "## 7/150 Write a Python program to accept a filename from the user and print the extension of that.\n",
    "filename = input(\"Input the filename: \")\n",
    "f_exts = filename.split(\".\")\n",
    "print(\"The extension of the file is: \" + f_exts[-1])"
   ]
  },
  {
   "cell_type": "code",
   "execution_count": null,
   "metadata": {},
   "outputs": [],
   "source": [
    "## 8/150 Write a Python program to display the first and last colors from the following list.\n",
    "n = int(input(\"Enter the number of colors: \"))\n",
    "color_list = []\n",
    "if n < 2:\n",
    "    print(\"Must enter at least 2 colors!\")\n",
    "    exit()\n",
    "else:\n",
    "    for i in range(n):\n",
    "        color_list.append(input(\"Color input %d:\" %(i + 1)))\n",
    "\n",
    "print(\"Your color is: \", color_list)\n",
    "print(\"First color: %s and Last color: %s\" %(color_list[0], color_list[-1]))"
   ]
  },
  {
   "cell_type": "code",
   "execution_count": 5,
   "metadata": {},
   "outputs": [
    {
     "name": "stdout",
     "output_type": "stream",
     "text": [
      "The examination will start from: 23 / 8 / 2022\n"
     ]
    }
   ],
   "source": [
    "## 9/150 Write a Python program to display the examination schedule. (Hien thi lich thi)\n",
    "exam_date = (23,8,2022)\n",
    "print(\"The examination will start from: %i / %i / %i\"%exam_date)"
   ]
  },
  {
   "cell_type": "code",
   "execution_count": null,
   "metadata": {},
   "outputs": [],
   "source": [
    "## 10/150 Write a Python program that accepts an integer (n) and computes the value of n+nn+nnn.\n",
    "a = int(input(\"Input an integer: \"))\n",
    "n1 = int( \"%s\" % a )\n",
    "n2 = int( \"%s%s\" % (a,a) )\n",
    "n3 = int( \"%s%s%s\" % (a,a,a) )\n",
    "print(\"Values of n+nn+nnn is: \", n1 + n2 + n3)"
   ]
  },
  {
   "cell_type": "code",
   "execution_count": null,
   "metadata": {},
   "outputs": [],
   "source": [
    "## 11/150 Write a Python program to print the documents (syntax, description etc.) of Python built-in function(s).\n",
    "## in các tài liệu (cú pháp, mô tả, v.v.) của (các) hàm tích hợp sẵn trong Python.\n",
    "print(\"ABS: \",abs.__doc__)\n",
    "print(\"\\nType:\\n\",type.__doc__)\n",
    "print(\"\\nInt\",int.__doc__)"
   ]
  },
  {
   "cell_type": "code",
   "execution_count": null,
   "metadata": {},
   "outputs": [],
   "source": [
    "## 12/150 Write a Python program to print the calendar of a given month and year.\n",
    "import calendar\n",
    "\n",
    "y = int(input(\"Input the year: \"))\n",
    "m = int(input(\"Input the month: \"))\n",
    "print(calendar.month(y,m))"
   ]
  },
  {
   "cell_type": "code",
   "execution_count": null,
   "metadata": {},
   "outputs": [],
   "source": [
    "## 13/150 Write a Python program to print the following 'here document'.\n",
    "print(\"\"\" A string that you don't to escape\n",
    "            This is a multiline\n",
    "                Amazing \"\"\")"
   ]
  },
  {
   "cell_type": "code",
   "execution_count": 49,
   "metadata": {},
   "outputs": [
    {
     "name": "stdout",
     "output_type": "stream",
     "text": [
      "22\n"
     ]
    }
   ],
   "source": [
    "## 14/150 Write a Python program to calculate number of days between two dates.\n",
    "from datetime import date\n",
    "\n",
    "f_date = date(2022, 8, 1)\n",
    "l_date = date(2022, 8, 23)\n",
    "delta = l_date - f_date\n",
    "print(delta.days)"
   ]
  },
  {
   "cell_type": "code",
   "execution_count": 53,
   "metadata": {},
   "outputs": [
    {
     "name": "stdout",
     "output_type": "stream",
     "text": [
      "The volume of the sphere is:  904.7786842338603\n"
     ]
    }
   ],
   "source": [
    "## 15/150 Write a Python program to get the volume of a sphere with radius 6.\n",
    "## để lấy thể tích của khối cầu có bán kính 6.\n",
    "from math import pi\n",
    "\n",
    "r = 6.0\n",
    "V = 4.0 / 3.0 * pi * r ** 3\n",
    "print(\"The volume of the sphere is: \", V)\n"
   ]
  },
  {
   "cell_type": "code",
   "execution_count": null,
   "metadata": {},
   "outputs": [],
   "source": [
    "## 16/150 Write a Python program to get the difference between a given number and 17, if the number is greater than 17 return double the absolute difference.\n",
    "## để nhận sự khác biệt giữa một số nhất định và 17, nếu số lớn hơn 17 trả về gấp đôi sự khác biệt tuyệt đối.\n",
    "n = int(input(\"Input a number: \"))\n",
    "def difference(n):\n",
    "    if n <= 17:\n",
    "        return 17 - n\n",
    "    else:\n",
    "        return (n - 17) * 2\n",
    "print(difference(n))"
   ]
  },
  {
   "cell_type": "code",
   "execution_count": null,
   "metadata": {},
   "outputs": [],
   "source": [
    "## 17/150  Write a Python program to test whether a number is within 100 of 1000 or 2000\n",
    "n = int(input(\"Input a number: \"))\n",
    "def near_thousand(n):\n",
    "    return ((abs(1000 - n) <= 100) or (abs(2000 - n) <= 100))\n",
    "print(near_thousand(n))"
   ]
  },
  {
   "cell_type": "code",
   "execution_count": null,
   "metadata": {},
   "outputs": [],
   "source": [
    "## 18/150 Write a Python program to calculate the sum of three given numbers, if the values are equal then return thrice of their sum.\n",
    "## nếu các giá trị bằng nhau thì trả về gấp ba lần tổng của chúng.\n",
    "x = int(input(\"Input a number First: \"))\n",
    "y = int(input(\"Input a number Second: \"))\n",
    "z = int(input(\"Input a number Third: \"))\n",
    "\n",
    "def sum_thrice(x,y,z):\n",
    "    sum = x + y + z\n",
    "    if x == y == z:\n",
    "        sum = sum * 3\n",
    "    return sum\n",
    "print(sum_thrice(x,y,z))"
   ]
  },
  {
   "cell_type": "code",
   "execution_count": null,
   "metadata": {},
   "outputs": [],
   "source": [
    "## 19/150 Write a Python program to get a new string from a given string where \"Is\" has been added to the front. If the given string already begins with \"Is\" then return the string unchanged.\n",
    "str = input(\"Input a string: \")\n",
    "def new_string(str):\n",
    "    if str[:2] == \"Is\":\n",
    "        return str\n",
    "    else:\n",
    "        return \"Is\" + str\n",
    "print(new_string(str))"
   ]
  },
  {
   "cell_type": "code",
   "execution_count": null,
   "metadata": {},
   "outputs": [],
   "source": [
    "## 20/150 Write a Python program to get a string which is n (non-negative integer) copies of a given string.\n",
    "## lấy một chuỗi là n (số nguyên không âm) nhân bản của một chuỗi đã cho.\n",
    "str = input(\"Input a string: \")\n",
    "n = int(input(\"Input the number of copies: \"))\n",
    "def larger_string(str, n):\n",
    "    result = \"\"\n",
    "    for i in range(n):\n",
    "        result = result + str\n",
    "    return result\n",
    "print(larger_string(str, n))\n"
   ]
  },
  {
   "cell_type": "code",
   "execution_count": null,
   "metadata": {},
   "outputs": [],
   "source": [
    "## 21/150 Write a Python program to find whether a given number (accept from the user) is even or odd, print out an appropriate message to the user.\n",
    "num = int(input(\"Enter a number: \"))\n",
    "mod = num % 2\n",
    "if mod > 0:\n",
    "    print(num, \"is an odd number\")\n",
    "else:\n",
    "    print(num, \"is an even number\")"
   ]
  },
  {
   "cell_type": "code",
   "execution_count": null,
   "metadata": {},
   "outputs": [],
   "source": [
    "## 22/150 Write a Python program to count the number 4 in a given list.\n",
    "n = int(input(\"Enter the number of arrays: \"))\n",
    "if n < 0:\n",
    "    exit()\n",
    "\n",
    "a = []\n",
    "for i in range(n):\n",
    "    a.append(int(input(\"Nhap so thu %d:\" % (i + 1))))\n",
    "print(\"Your array is:\", a)\n",
    "\n",
    "def list_count_4(a):\n",
    "    count = 0\n",
    "    for num in a:\n",
    "        if num == 4:\n",
    "            count = count + 1      \n",
    "    return count\n",
    "print(\"Number of occurrences of 4 is:\",list_count_4(a))"
   ]
  },
  {
   "cell_type": "code",
   "execution_count": null,
   "metadata": {},
   "outputs": [],
   "source": [
    "## 23/150 Write a Python program to get the n (non-negative integer) copies of the first 2 characters of a given string. \n",
    "# Return the n copies of the whole string if the length is less than 2.\n",
    "str = input(\"Input a string: \")\n",
    "n = int(input(\"Enter the number of copies: \"))\n",
    "def substring_copy(str, n):\n",
    "    flen = 2\n",
    "    if flen > len(str):\n",
    "        flen = len(str)\n",
    "    substr = str[:flen]\n",
    "\n",
    "    result = \"\"\n",
    "    for i in range(n):\n",
    "        result = result + substr\n",
    "    return result\n",
    "\n",
    "print(substring_copy(str, n))"
   ]
  },
  {
   "cell_type": "code",
   "execution_count": null,
   "metadata": {},
   "outputs": [],
   "source": [
    "## 24/150 Write a Python program to test whether a passed letter is a vowel or not.\n",
    "n = input(\"Input a char: \")\n",
    "def is_vowel(char):\n",
    "    all_vowels = \"ueoai\"\n",
    "    return char in all_vowels\n",
    "\n",
    "print(is_vowel(n))"
   ]
  },
  {
   "cell_type": "code",
   "execution_count": 2,
   "metadata": {},
   "outputs": [
    {
     "name": "stdout",
     "output_type": "stream",
     "text": [
      "Your array is: [1, 2, 3]\n",
      "Value is:  2\n"
     ]
    },
    {
     "ename": "NameError",
     "evalue": "name 'n2' is not defined",
     "output_type": "error",
     "traceback": [
      "\u001b[1;31m---------------------------------------------------------------------------\u001b[0m",
      "\u001b[1;31mNameError\u001b[0m                                 Traceback (most recent call last)",
      "Cell \u001b[1;32mIn [2], line 18\u001b[0m\n\u001b[0;32m     16\u001b[0m             \u001b[38;5;28;01mreturn\u001b[39;00m \u001b[38;5;28mprint\u001b[39m(\u001b[38;5;124m\"\u001b[39m\u001b[38;5;124mValues isn\u001b[39m\u001b[38;5;124m'\u001b[39m\u001b[38;5;124mt contained in a group\u001b[39m\u001b[38;5;124m\"\u001b[39m)\n\u001b[0;32m     17\u001b[0m \u001b[38;5;28mprint\u001b[39m(\u001b[38;5;124m\"\u001b[39m\u001b[38;5;124mValue is: \u001b[39m\u001b[38;5;124m\"\u001b[39m,num)\n\u001b[1;32m---> 18\u001b[0m \u001b[43mis_group_member\u001b[49m\u001b[43m(\u001b[49m\u001b[43ma\u001b[49m\u001b[43m,\u001b[49m\u001b[43mnum\u001b[49m\u001b[43m)\u001b[49m\n",
      "Cell \u001b[1;32mIn [2], line 13\u001b[0m, in \u001b[0;36mis_group_member\u001b[1;34m(a, num)\u001b[0m\n\u001b[0;32m     11\u001b[0m \u001b[38;5;28;01mdef\u001b[39;00m \u001b[38;5;21mis_group_member\u001b[39m(a,num):\n\u001b[0;32m     12\u001b[0m     \u001b[38;5;28;01mfor\u001b[39;00m value \u001b[38;5;129;01min\u001b[39;00m a:\n\u001b[1;32m---> 13\u001b[0m         \u001b[38;5;28;01mif\u001b[39;00m \u001b[43mn2\u001b[49m \u001b[38;5;241m==\u001b[39m value:\n\u001b[0;32m     14\u001b[0m             \u001b[38;5;28;01mreturn\u001b[39;00m \u001b[38;5;28mprint\u001b[39m(\u001b[38;5;124m\"\u001b[39m\u001b[38;5;124mValues is contained in a group\u001b[39m\u001b[38;5;124m\"\u001b[39m)\n\u001b[0;32m     15\u001b[0m         \u001b[38;5;28;01melse\u001b[39;00m:\n",
      "\u001b[1;31mNameError\u001b[0m: name 'n2' is not defined"
     ]
    }
   ],
   "source": [
    "## 25/150 Write a Python program to check whether a specified value is contained in a group of values.\n",
    "n = int(input(\"Input the number of arrays: \"))\n",
    "if n < 0:\n",
    "    exit()\n",
    "a=[]\n",
    "for i in range(n):\n",
    "    a.append(int(input(\"Number input %d\" %(i + 1))))\n",
    "print(\"Your array is:\", a)\n",
    "\n",
    "\n",
    "def is_group_member(a,num):\n",
    "    for value in a:\n",
    "        if num == value:\n",
    "            return print(\"Values is contained in a group\")\n",
    "        else:\n",
    "            return print(\"Values isn't contained in a group\")\n",
    "\n",
    "\n",
    "n2 = int(input(\"Input the number to search: \"))\n",
    "print(\"Value is: \",n2)\n",
    "is_group_member(a,n2)"
   ]
  },
  {
   "cell_type": "code",
   "execution_count": null,
   "metadata": {},
   "outputs": [],
   "source": [
    "\"\"\"\n",
    "Bai 2: Viet ham thuc hien cac chuong trinh sau\n",
    "1. Tính:\n",
    "a) (a + b),\n",
    "b) a/b,\n",
    "c) a^b.\n",
    "2. Tính diện tích hình chữ nhật khi biết bán kính\n",
    "3. Xuất tất cả các số nguyên tố trong 1 khoảng cho trước\n",
    "4. Kiểm tra 1 số nguyên n có phải là số Fibonacci hay không\n",
    "5. Tìm số Fibonacci thứ n (dùng đệ quy và không đệ quy)\n",
    "6. Tính tổng n số Fibonacci đầu tiên (dùng đệ quy và không đệ quy)\n",
    "7. Tính tổng căn bậc 2 của n số nguyên đầu tiên\n",
    "8. Giải phương trình bậc 2: ax2 + bx + c=0\n",
    "\"\"\""
   ]
  },
  {
   "cell_type": "code",
   "execution_count": null,
   "metadata": {},
   "outputs": [],
   "source": [
    "## 1. Tinh\n",
    "a = int(input(\"Nhap a: \"))\n",
    "b = int(input(\"Nhap b: \"))\n",
    "\n",
    "print(\"a + b = \",a + b)\n",
    "print(\"a / b = \",a / b)\n",
    "print(\"a ^ b = \",a ** b)"
   ]
  },
  {
   "cell_type": "code",
   "execution_count": null,
   "metadata": {},
   "outputs": [],
   "source": [
    "## 2. Tinh S hcn khi biet a va b\n",
    "a = int(input(\"Nhap a: \"))\n",
    "b = int(input(\"Nhap b: \"))\n",
    "print(\"Dien tich hinh chu nhat co a = %d va b = %d la S =\" %(a,b), a * b)"
   ]
  },
  {
   "cell_type": "code",
   "execution_count": null,
   "metadata": {},
   "outputs": [],
   "source": [
    "## 3. Xuất tất cả các số nguyên tố trong 1 khoảng cho trước\n",
    "import math\n",
    "\n",
    "a = int(input(\"Nhap a: \"))\n",
    "b = int(input(\"Nhap b: \"))\n",
    "\n",
    "def isPrimeNumber(n):\n",
    "    if n < 2:\n",
    "        return False\n",
    "    for i in range(2, int(math.sqrt(n)) + 1):\n",
    "        if n % i == 0:\n",
    "            return False\n",
    "    return True\n",
    "\n",
    "def printPrimeNumber(a, b):\n",
    "    for i in range(a, b + 1):\n",
    "        if isPrimeNumber(i):\n",
    "            print(i, end=\"  \")\n",
    "print(\"Số nguyên tố từ %d đến %d \" %(a,b))\n",
    "printPrimeNumber(a,b)"
   ]
  },
  {
   "cell_type": "code",
   "execution_count": null,
   "metadata": {},
   "outputs": [],
   "source": [
    "## 4. Kiểm tra 1 số nguyên n có phải là số Fibonacci hay không\n",
    "import math\n",
    "\n",
    "n = int(input(\"Nhập n: \"))\n",
    "\n",
    "def check(x):\n",
    "    n = int(math.sqrt(x))\n",
    "    return n * n == x\n",
    "\n",
    "def check_fibonacci(a):\n",
    "    return check(5 * a * a - 4) or check(5 * a * a + 4)\n",
    "\n",
    "if check_fibonacci(n) == True:\n",
    "    print(\"%d is Fibonacci\" %n)\n",
    "else:\n",
    "    print(\"%d Not Fibonacci\" %n)"
   ]
  },
  {
   "cell_type": "code",
   "execution_count": 57,
   "metadata": {},
   "outputs": [
    {
     "name": "stdout",
     "output_type": "stream",
     "text": [
      "Số Fibonacci thứ 5 là: 5\n",
      "Tổng 5 số Fibonacci đầu tiên là: 12\n"
     ]
    }
   ],
   "source": [
    "## 5. Tìm số Fibonacci thứ n (dùng đệ quy)\n",
    "## 6. Tính tổng n số Fibonacci đầu tiên (dùng đệ quy)\n",
    "\n",
    "import math\n",
    "def findFibonacci(n):\n",
    "    if n < 0:\n",
    "        print(\"Không hợp lệ\")\n",
    "    elif n == 0:\n",
    "        return 0\n",
    "    elif n == 1 or n == 2:\n",
    "        return 1\n",
    "    else:\n",
    "        return findFibonacci(n - 1) + findFibonacci(n - 2)\n",
    "\n",
    "n = int(input(\"Nhập n: \"))\n",
    "print(\"Số Fibonacci thứ %d là:\" %n, findFibonacci(n))\n",
    "\n",
    "def sumFibonacci(m):\n",
    "    sum = 0\n",
    "    for i in range(m + 1):\n",
    "        sum += findFibonacci(i)\n",
    "    return sum\n",
    "\n",
    "m = int(input(\"Nhập m số Fibonacci: \"))\n",
    "print(\"Tổng %d số Fibonacci đầu tiên là:\" %m, sumFibonacci(m))"
   ]
  },
  {
   "cell_type": "code",
   "execution_count": 54,
   "metadata": {},
   "outputs": [
    {
     "name": "stdout",
     "output_type": "stream",
     "text": [
      "Số Fibonacci thứ 5 là: 5\n",
      "Tổng 5 số Fibonacci đầu tiên là: 12\n"
     ]
    }
   ],
   "source": [
    "## 5. Tìm số Fibonacci thứ n (không đệ quy)\n",
    "## 6. Tính tổng n số Fibonacci đầu tiên (không đệ quy)\n",
    "\n",
    "def findFibonacci2(n):\n",
    "    a = 0\n",
    "    b = 1\n",
    "    if n < 0:\n",
    "        print(\"Không hợp lệ\")\n",
    "    elif n == 0:\n",
    "        return 0\n",
    "    elif n == 1:\n",
    "        return b\n",
    "    else:\n",
    "        for i in range(1, n):\n",
    "            c = a + b\n",
    "            a = b\n",
    "            b = c\n",
    "        return b\n",
    "n = int(input(\"Nhập n: \"))\n",
    "print(\"Số Fibonacci thứ %d là:\" %n, findFibonacci2(n))\n",
    "\n",
    "def sumFibonacci2(m):\n",
    "    a = 0\n",
    "    b = 1\n",
    "    if n < 0:\n",
    "        print(\"Không hợp lệ\")\n",
    "    elif n == 0 or n == 1:\n",
    "        return n\n",
    "    else:\n",
    "        s = 0\n",
    "        while b <= n:\n",
    "            s += b\n",
    "            a, b = b, a + b\n",
    "        return s\n",
    "\n",
    "m = int(input(\"Nhập m số Fibonacci:\"))\n",
    "print(\"Tổng %d số Fibonacci đầu tiên là:\" %m, sumFibonacci2(m))"
   ]
  },
  {
   "cell_type": "code",
   "execution_count": 59,
   "metadata": {},
   "outputs": [
    {
     "name": "stdout",
     "output_type": "stream",
     "text": [
      "Tổng căn bậc 2 của 2 số nguyên đầu tiên là: (1+0j)\n"
     ]
    }
   ],
   "source": [
    "## 7. Tính tổng căn bậc 2 của n số nguyên đầu tiên\n",
    "from cmath import sqrt\n",
    "\n",
    "def sumFirstOfInteger(n):\n",
    "    sum = 0\n",
    "    for i in range(n):\n",
    "        sum += sqrt(i)\n",
    "    return sum\n",
    "\n",
    "n = int(input(\"Nhập n số nguyên đầu tiên: \"))\n",
    "print(\"Tổng căn bậc 2 của %d số nguyên đầu tiên là:\" %n, sumFirstOfInteger(n))"
   ]
  },
  {
   "cell_type": "code",
   "execution_count": 2,
   "metadata": {},
   "outputs": [
    {
     "name": "stdout",
     "output_type": "stream",
     "text": [
      "Phương trình vô nghiệm\n"
     ]
    }
   ],
   "source": [
    "## 8. Giải phương trình bậc 2: ax2 + bx + c=0\n",
    "\n",
    "import math\n",
    "\n",
    "a = float(input(\"Nhập a: \"))\n",
    "b = float(input(\"Nhập b: \"))\n",
    "c = float(input(\"Nhập c: \"))\n",
    "\n",
    "def giaiPTB2(a, b, c):\n",
    "    if a == 0 and b ==0:\n",
    "        print(\"a hoặc b phải khác 0\")\n",
    "\n",
    "    delta = b * b - 4 * a * c\n",
    "    if delta > 0:\n",
    "        x1 = (float)((-b + math.sqrt(delta)) / (2 * a))\n",
    "        x2 = (float)((-b - math.sqrt(delta)) / (2 * a))\n",
    "        print(\"Phương trình có 2 nghiệm là: x1 = \", x1, \"x2 = \", x2)\n",
    "    elif delta == 0:\n",
    "        x1 = (-b / (2 * a))\n",
    "        print(\"Phương trình có nghiệm kép: x1 = x2 = \", x1)\n",
    "    else:\n",
    "        print(\"Phương trình vô nghiệm\")\n",
    "\n",
    "giaiPTB2(a, b, c)"
   ]
  },
  {
   "cell_type": "code",
   "execution_count": 17,
   "metadata": {},
   "outputs": [
    {
     "name": "stdout",
     "output_type": "stream",
     "text": [
      "Giai thừa của 10 là 3628800\n"
     ]
    }
   ],
   "source": [
    "## 9. Tính n!\n",
    "def tinhGiaiThua(n):\n",
    "    kq = 1\n",
    "    if n == 0 or n == 1:\n",
    "        return 1\n",
    "    else:\n",
    "        for i in range(2, n + 1):\n",
    "            kq = kq * i\n",
    "        return kq\n",
    "n = int(input(\"Nhập số nguyên dương n: \"))\n",
    "print(\"Giai thừa của\", n, \"là\", tinhGiaiThua(n))"
   ]
  },
  {
   "cell_type": "code",
   "execution_count": 24,
   "metadata": {},
   "outputs": [
    {
     "name": "stdout",
     "output_type": "stream",
     "text": [
      "* \n",
      "* * \n",
      "* * * \n",
      "* * * * \n",
      "* * * * * \n",
      "* * * * * * \n",
      "* * * * * * * \n",
      "* * * * * * * * \n",
      "* * * * * * * * * \n",
      "* * * * * * * * * * \n"
     ]
    }
   ],
   "source": [
    "## 10.In * dạng tam giác dưới như hình bên, đầu vào là số hàng(cột)\n",
    "def draw(r):\n",
    "    for row in range(1, r + 1):\n",
    "        for col in range(1, row + 1):\n",
    "            print(\"*\", end=' ')\n",
    "        print()\n",
    "\n",
    "\n",
    "r = int(input(\"Nhập: \"))\n",
    "draw(r)\n",
    "\n"
   ]
  },
  {
   "cell_type": "code",
   "execution_count": 1,
   "metadata": {},
   "outputs": [
    {
     "name": "stdout",
     "output_type": "stream",
     "text": [
      "Số giây nhập vào là: 33333 giây\n",
      "9 : 15 : 33\n"
     ]
    }
   ],
   "source": [
    "## 11. Đổi giờ - phút – giây: thời gian đầu vào là giây được đổi thành giờ, phút, giây.\n",
    "##Xuất kết quả ra màn hình dưới dạng: giờ:phút:giây. Ví dụ: soGiay = 3770 thì xuất\n",
    "##ra màn hình 1:2:50.\n",
    "\n",
    "time = int(input(\"Nhập số giây: \"))\n",
    "hour = (time//3600)%24\n",
    "minute = (time%3600)//60\n",
    "second = (time%3600)%60\n",
    "print(\"Số giây nhập vào là: %d giây\" %time)\n",
    "print(hour,\":\",minute,\":\",second)"
   ]
  },
  {
   "cell_type": "code",
   "execution_count": 61,
   "metadata": {},
   "outputs": [],
   "source": [
    "## 12.Cho một mảng số nguyên: (nên viết 2-3 cách)\n",
    "array = [5,7,6,9,14,26,21,17,44,8,10,7,7]"
   ]
  },
  {
   "cell_type": "code",
   "execution_count": 34,
   "metadata": {},
   "outputs": [
    {
     "name": "stdout",
     "output_type": "stream",
     "text": [
      "Danh sách số lẻ không chia hết cho 5\n",
      " [7, 9, 21, 17]\n"
     ]
    }
   ],
   "source": [
    "## a) Xuât tất cả các số lẻ không chia hết cho 5\n",
    "listSoLekhongChiaHet5 = (list(filter(lambda a:(a&1 == 1) and (a % 5)!= 0, array)))\n",
    "print(\"Danh sách số lẻ không chia hết cho 5\\n\",listSoLekhongChiaHet5)"
   ]
  },
  {
   "cell_type": "code",
   "execution_count": 35,
   "metadata": {},
   "outputs": [
    {
     "name": "stdout",
     "output_type": "stream",
     "text": [
      "Số Fibonacci có trong mảng\n",
      " [5, 21, 8] "
     ]
    }
   ],
   "source": [
    "## b) Xuất tất cả các số Fibonacci\n",
    "listFibonacci = []\n",
    "def check(x):\n",
    "    n = int(math.sqrt(x))\n",
    "    return n * n == x\n",
    "\n",
    "def check_fibonacci(a):\n",
    "    return check(5 * a * a - 4) or check(5 * a * a + 4)\n",
    "        \n",
    "def printFibonacci():\n",
    "    for i in array:\n",
    "        if check_fibonacci(i) == True:\n",
    "            listFibonacci.append(i)\n",
    "    print(\"Số Fibonacci có trong mảng\\n\",listFibonacci, end=' ')\n",
    "\n",
    "printFibonacci()"
   ]
  },
  {
   "cell_type": "code",
   "execution_count": 37,
   "metadata": {},
   "outputs": [
    {
     "name": "stdout",
     "output_type": "stream",
     "text": [
      "Danh sách số nguyên tố trong mảng\n",
      " [5, 7, 17]\n",
      "Số nguyên tố lớn nhất trong mảng: 17\n"
     ]
    }
   ],
   "source": [
    "## c) Tìm số nguyên tố lớn nhất\n",
    "listPrime = []\n",
    "\n",
    "def checkPrimeNumber(n):\n",
    "    flag = 1\n",
    "    if n < 2:\n",
    "        flag = 0\n",
    "        return flag\n",
    "    for i in range(2, n):\n",
    "        if n % i == 0:\n",
    "            flag = 0\n",
    "            break\n",
    "    return flag\n",
    "\n",
    "def checkPrimeList():\n",
    "    for i in array:\n",
    "        if checkPrimeNumber(i) == 1:\n",
    "            listPrime.append(i)\n",
    "    print(\"Danh sách số nguyên tố trong mảng\\n\", listPrime)\n",
    "\n",
    "def findPrimeMax():\n",
    "    print(\"Số nguyên tố lớn nhất trong mảng:\", max(listPrime))\n",
    "\n",
    "checkPrimeList()\n",
    "findPrimeMax()\n",
    "\n"
   ]
  },
  {
   "cell_type": "code",
   "execution_count": 41,
   "metadata": {},
   "outputs": [
    {
     "name": "stdout",
     "output_type": "stream",
     "text": [
      "Số Fibonacci bé nhất trong mảng: 5\n"
     ]
    }
   ],
   "source": [
    "## d) Tìm số Fibonacci bé nhất\n",
    "def findPrimeMin():\n",
    "    print(\"Số Fibonacci bé nhất trong mảng:\", min(listFibonacci))\n",
    "\n",
    "findPrimeMin()\n"
   ]
  },
  {
   "cell_type": "code",
   "execution_count": 42,
   "metadata": {},
   "outputs": [
    {
     "name": "stdout",
     "output_type": "stream",
     "text": [
      "[5, 7, 9, 21, 17]\n",
      "Trung bình các số lẻ là:  11.8\n"
     ]
    }
   ],
   "source": [
    "## e) Tính trung bình các số lẻ\n",
    "listSoLe = (list(filter(lambda a:(a&1 == 1), array)))\n",
    "print(listSoLe)\n",
    "\n",
    "def TBSoLe(listSoLe):\n",
    "    SumLe = 0\n",
    "    for i in listSoLe:\n",
    "        SumLe += i \n",
    "    return SumLe / len(listSoLe)\n",
    "print(\"Trung bình các số lẻ là: \",TBSoLe(listSoLe))\n",
    "\n"
   ]
  },
  {
   "cell_type": "code",
   "execution_count": 43,
   "metadata": {},
   "outputs": [
    {
     "name": "stdout",
     "output_type": "stream",
     "text": [
      "[5, 7, 17]\n"
     ]
    },
    {
     "data": {
      "text/plain": [
       "595"
      ]
     },
     "execution_count": 43,
     "metadata": {},
     "output_type": "execute_result"
    }
   ],
   "source": [
    "## f) Tính tích các phần tử là số lẻ không chia hết cho 3 trong mảng\n",
    "listKhongChiaHet3 = (list(filter(lambda a:(a&1 == 1) and (a % 3)!= 0, array)))\n",
    "print(listKhongChiaHet3)\n",
    "\n",
    "def TichKhongChiaHet3(listKhongChiaHet3):\n",
    "    tich = 1\n",
    "    for i in listKhongChiaHet3:\n",
    "        tich *= i\n",
    "    return tich\n",
    "\n",
    "TichKhongChiaHet3(listKhongChiaHet3)"
   ]
  },
  {
   "cell_type": "code",
   "execution_count": 47,
   "metadata": {},
   "outputs": [
    {
     "name": "stdout",
     "output_type": "stream",
     "text": [
      "Danh sách mảng lúc đầu\n",
      " [5, 7, 6, 9, 14, 26, 21, 17, 44, 8, 10]\n",
      "\n",
      "Danh sách mảng sau khi đổi chỗ\n",
      " [5, 6, 7, 9, 14, 26, 21, 17, 44, 8, 10]\n"
     ]
    }
   ],
   "source": [
    "## g) Đổi chỗ 2 phần tử của danh sách, đầu vào là 2 vị trí cần đổi chỗ\n",
    "def doiCho(pos1, pos2):\n",
    "    array[pos1], array[pos2] = array[pos2], array[pos1]\n",
    "    return array\n",
    "\n",
    "pos1 = int(input('Nhập ví trí 1: '))\n",
    "pos2 = int(input('Nhập vị trí 2: '))\n",
    "\n",
    "print(\"Danh sách mảng lúc đầu\\n\",array)\n",
    "print(\"\\nDanh sách mảng sau khi đổi chỗ\\n\",doiCho(pos1 - 1, pos2 - 1))\n"
   ]
  },
  {
   "cell_type": "code",
   "execution_count": 45,
   "metadata": {},
   "outputs": [
    {
     "name": "stdout",
     "output_type": "stream",
     "text": [
      "Mảng lúc đầu: \n",
      " [5, 7, 6, 9, 14, 26, 21, 17, 44]\n",
      "\n",
      "Mảng sau khi đảo ngược: \n",
      " [44, 17, 21, 26, 14, 9, 6, 7, 5]\n"
     ]
    }
   ],
   "source": [
    "## h) Đảo ngược trật tự các phần tử của danh sách\n",
    "\"\"\"\n",
    "Phương thức reverse() : đảo ngược list ban đầu trong python\n",
    "Cắt (slice) list : Đảo ngược list và tạo ra một list mới\n",
    "\"\"\"\n",
    "print(\"Mảng lúc đầu: \\n\",array)\n",
    "array.reverse()\n",
    "print(\"\\nMảng sau khi đảo ngược: \\n\",array)\n"
   ]
  },
  {
   "cell_type": "code",
   "execution_count": 53,
   "metadata": {},
   "outputs": [
    {
     "name": "stdout",
     "output_type": "stream",
     "text": [
      "[5, 7, 6, 9, 14, 26, 21, 17, 44, 8, 10]\n",
      "Số lớn thứ 2 trong danh sách là: 26\n"
     ]
    }
   ],
   "source": [
    "## i) Xuất tất cả các số lớn thứ nhì của danh sách\n",
    "#arr2 = []\n",
    "def Max2List():\n",
    "    arr2 = sorted(array)\n",
    "    print(\"Số lớn thứ 2 trong danh sách là:\",arr2[-2])\n",
    "print(array)\n",
    "Max2List()"
   ]
  },
  {
   "cell_type": "code",
   "execution_count": 145,
   "metadata": {},
   "outputs": [
    {
     "name": "stdout",
     "output_type": "stream",
     "text": [
      "[5, 7, 6, 9, 14, 26, 21, 17, 44]\n",
      "Tổng tất cả các số trong danh sách là: 149\n"
     ]
    }
   ],
   "source": [
    "## j) Tính tổng các chữ số của tất cả các số trong danh sách\n",
    "def TinhTong(array):\n",
    "    sum = 0\n",
    "    for i in array:\n",
    "        sum += i\n",
    "    return sum\n",
    "print(array)\n",
    "print(\"Tổng tất cả các số trong danh sách là:\",TinhTong(array))\n"
   ]
  },
  {
   "cell_type": "code",
   "execution_count": null,
   "metadata": {},
   "outputs": [],
   "source": [
    "## k) Đếm số lần xuất hiện của một số trong danh sách\n",
    "print(\"Danh sách mảng:\", array)\n",
    "x = int(input(\"Nhập số cần đếm: \"))\n",
    "print(\"Số lần xuất hiện của %d là:\" %x ,array.count(x))\n"
   ]
  },
  {
   "cell_type": "code",
   "execution_count": 67,
   "metadata": {},
   "outputs": [
    {
     "name": "stdout",
     "output_type": "stream",
     "text": [
      "Số xuất hiện 3 lần là: 7\n"
     ]
    }
   ],
   "source": [
    "## l) Xuất các số xuất hiện n lần trong danh sách\n",
    "def SoLanXuatHien():\n",
    "    n = int(input(\"Nhập số lần xuất hiện: \"))\n",
    "    for i in array:\n",
    "        if n == array.count(i):\n",
    "            print(\"Số xuất hiện %d lần là: %d\" %(n,i))\n",
    "            break\n",
    "SoLanXuatHien()"
   ]
  },
  {
   "cell_type": "code",
   "execution_count": 69,
   "metadata": {},
   "outputs": [
    {
     "name": "stdout",
     "output_type": "stream",
     "text": [
      "Số xuất hiện nhiều nhất là:  7\n"
     ]
    }
   ],
   "source": [
    "## m) Xuất các số xuất hiện nhiều lần nhất trong danh sách\n",
    "def SoXuatHienNhieuNhat():\n",
    "    count = 0\n",
    "    num = array[0]\n",
    "    for i in array:\n",
    "        arr3 = array.count(i)\n",
    "        if arr3 > count:\n",
    "            count = arr3\n",
    "            num = i\n",
    "    return num\n",
    "print(\"Số xuất hiện nhiều nhất là:\",SoXuatHienNhieuNhat())\n"
   ]
  },
  {
   "cell_type": "code",
   "execution_count": null,
   "metadata": {},
   "outputs": [],
   "source": [
    "\"\"\"\n",
    "Bài 3: Bài tập về nhà\n",
    "Bài tập về chuỗi (string): https://www.geeksforgeeks.org/python-programmingexamples/?ref=lbp#string\n",
    "\"\"\""
   ]
  },
  {
   "cell_type": "code",
   "execution_count": null,
   "metadata": {},
   "outputs": [],
   "source": [
    "## 1. Python program to check if a string is palindrome or not\n",
    "# A string is said to be palindrome if the reverse of the string is the same as string. For example, “radar” is a palindrome, but “radix” is not a palindrome.\n",
    "def isPalindrome(str):\n",
    "    for i in range(0, int(len(str)/2)):\n",
    "        if str[i] != str[len(str)-i-1]:\n",
    "            return False\n",
    "    return True\n",
    "\n",
    "s = input(\"Input a string: \")\n",
    "ans = isPalindrome(s)\n",
    " \n",
    "print(s)\n",
    "if (ans):\n",
    "    print(\"Palindmore\")\n",
    "else:\n",
    "    print(\"Not Palindmore\")\n"
   ]
  }
 ],
 "metadata": {
  "kernelspec": {
   "display_name": "Python 3.10.6 64-bit",
   "language": "python",
   "name": "python3"
  },
  "language_info": {
   "codemirror_mode": {
    "name": "ipython",
    "version": 3
   },
   "file_extension": ".py",
   "mimetype": "text/x-python",
   "name": "python",
   "nbconvert_exporter": "python",
   "pygments_lexer": "ipython3",
   "version": "3.10.7"
  },
  "orig_nbformat": 4,
  "vscode": {
   "interpreter": {
    "hash": "3bc1a11519d29b3ed6f08646f3ece60640217e649724c6bcfd38e1173c1a1bce"
   }
  }
 },
 "nbformat": 4,
 "nbformat_minor": 2
}
