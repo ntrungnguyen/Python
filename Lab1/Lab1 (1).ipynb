{
 "cells": [
  {
   "cell_type": "code",
   "execution_count": null,
   "metadata": {},
   "outputs": [],
   "source": [
    "# 1.\n",
    "print('Twinkle, twinkle, little star, \\n How I wonder what you are! \\n Up above the world so high, \\n Like a diamond in the sky. \\n Twinkle, twinkle, little star, \\n How I wonder what you are')"
   ]
  },
  {
   "cell_type": "code",
   "execution_count": null,
   "metadata": {},
   "outputs": [],
   "source": [
    "# 2.\n",
    "import sys\n",
    "print(sys.version)\n",
    "print(sys.version_info)\n"
   ]
  },
  {
   "cell_type": "code",
   "execution_count": null,
   "metadata": {},
   "outputs": [],
   "source": [
    "# 3.\n",
    "import datetime\n",
    "\n",
    "now = datetime.datetime.now()\n",
    "\n",
    "print(now)"
   ]
  },
  {
   "cell_type": "code",
   "execution_count": 6,
   "metadata": {},
   "outputs": [
    {
     "name": "stdout",
     "output_type": "stream",
     "text": [
      "3.8013271108436504\n"
     ]
    }
   ],
   "source": [
    "# 4.\n",
    "from cmath import pi\n",
    "\n",
    "\n",
    "r = float(input('Nhap ban kinh r:'))\n",
    "area = pi * pow(r, 2)\n",
    "\n",
    "print(area)"
   ]
  },
  {
   "cell_type": "code",
   "execution_count": 8,
   "metadata": {},
   "outputs": [
    {
     "name": "stdout",
     "output_type": "stream",
     "text": [
      "Thien  Son\n"
     ]
    }
   ],
   "source": [
    "# 5. \n",
    "fName = input('Nhap first Name: ')\n",
    "lName = input('Nhap last Name: ')\n",
    "\n",
    "print(lName , ' ' ,fName)"
   ]
  },
  {
   "cell_type": "code",
   "execution_count": 1,
   "metadata": {},
   "outputs": [
    {
     "name": "stdout",
     "output_type": "stream",
     "text": [
      "list :  ['7', '8', '8', '9', '8', '7', '6']\n",
      "tupleList :  ('7', '8', '8', '9', '8', '7', '6')\n"
     ]
    }
   ],
   "source": [
    "# 6.\n",
    "data = input('Input Sample Data: ')\n",
    "\n",
    "list = data.split(',')\n",
    "tupleList = tuple(list)\n",
    "\n",
    "print('list : ', list)\n",
    "print('tupleList : ', tupleList)\n"
   ]
  },
  {
   "cell_type": "code",
   "execution_count": 1,
   "metadata": {},
   "outputs": [
    {
     "name": "stdout",
     "output_type": "stream",
     "text": [
      "The extension of the file name is:  py\n"
     ]
    }
   ],
   "source": [
    "# 7.\n",
    "fileName = input('file name:')\n",
    "file_extns = fileName.split('.')\n",
    "print('The extension of the file name is: ', file_extns[1])"
   ]
  },
  {
   "cell_type": "code",
   "execution_count": 2,
   "metadata": {},
   "outputs": [
    {
     "name": "stdout",
     "output_type": "stream",
     "text": [
      "red\n",
      "black\n"
     ]
    }
   ],
   "source": [
    "# 8.\n",
    "color_list = [\"red\", \"green\", \"white\", \"black\"]\n",
    "print(color_list[0])\n",
    "print(color_list[-1])"
   ]
  },
  {
   "cell_type": "code",
   "execution_count": 1,
   "metadata": {},
   "outputs": [
    {
     "name": "stdout",
     "output_type": "stream",
     "text": [
      "The examination will start from:  2020-01-03 00:00:00\n",
      "The examination will start from : 2020 / 1 / 3\n"
     ]
    }
   ],
   "source": [
    "# 9.\n",
    "from datetime import datetime\n",
    "exam_st_date = (2020, 1, 3)\n",
    "date = datetime(*exam_st_date)\n",
    "print('The examination will start from: ', date)\n",
    "print( \"The examination will start from : %i / %i / %i\"%exam_st_date)"
   ]
  },
  {
   "cell_type": "code",
   "execution_count": 3,
   "metadata": {},
   "outputs": [
    {
     "name": "stdout",
     "output_type": "stream",
     "text": [
      "155\n"
     ]
    }
   ],
   "source": [
    "# 10.\n",
    "n = int(input('Input n:'))\n",
    "rs = n + pow(n, 2) + pow(n, 3)\n",
    "print(rs)"
   ]
  },
  {
   "cell_type": "code",
   "execution_count": null,
   "metadata": {},
   "outputs": [],
   "source": [
    "# 11.\n",
    "print(abs.__doc__)"
   ]
  },
  {
   "cell_type": "code",
   "execution_count": null,
   "metadata": {},
   "outputs": [],
   "source": [
    "# 12.\n",
    "import calendar\n",
    "month = int(input(\"Input the month: \"))\n",
    "year = int(input(\"Input the year: \"))\n",
    "print(calendar.month(year, month))"
   ]
  },
  {
   "cell_type": "code",
   "execution_count": null,
   "metadata": {},
   "outputs": [],
   "source": [
    "# 13.\n",
    "print(\"\"\"\n",
    "a string that you \"don't\" have to escape\n",
    "This\n",
    "is a  ....... multi-line\n",
    "heredoc string --------> example\n",
    "\"\"\")"
   ]
  },
  {
   "cell_type": "code",
   "execution_count": null,
   "metadata": {},
   "outputs": [],
   "source": [
    "# 14.\n",
    "from datetime import date\n",
    "fDate = date(2014, 7, 2)\n",
    "lDate = date(2014, 7, 11)\n",
    "delta = lDate - fDate\n",
    "print(delta.days)"
   ]
  },
  {
   "cell_type": "code",
   "execution_count": null,
   "metadata": {},
   "outputs": [],
   "source": [
    "# 15. \n",
    "r = 6\n",
    "V = 4/3 * pi * r**3\n",
    "print('The volume of the sphere is: ',V)"
   ]
  },
  {
   "cell_type": "code",
   "execution_count": null,
   "metadata": {},
   "outputs": [],
   "source": [
    "# 16.\n",
    "def difference(n):\n",
    "    if n <= 17:\n",
    "        return 17 - n\n",
    "    else:\n",
    "        return (n - 17) * 2\n",
    "\n",
    "n = int(input('Input n:'))\n",
    "print(difference(n))"
   ]
  },
  {
   "cell_type": "code",
   "execution_count": null,
   "metadata": {},
   "outputs": [],
   "source": [
    "# 17.\n",
    "def testNumber(n):\n",
    "    return ((abs(1000 - n) <= 100) or (abs(2000 - n) <= 100))\n",
    "\n",
    "n = int(input(\"Nhap n\"))\n",
    "print(testNumber(n))"
   ]
  },
  {
   "cell_type": "code",
   "execution_count": 42,
   "metadata": {},
   "outputs": [
    {
     "name": "stdout",
     "output_type": "stream",
     "text": [
      "6\n"
     ]
    }
   ],
   "source": [
    "# 18.\n",
    "a = int(input('Input a:'))\n",
    "b = int(input('Input b:'))\n",
    "c = int(input('Input c:'))\n",
    "\n",
    "def equal(a, b, c):\n",
    "    sum = a + b + c\n",
    "    if a == b == c:\n",
    "        sum = sum * 3 \n",
    "    return sum\n",
    "print(equal(a, b, c))"
   ]
  },
  {
   "cell_type": "code",
   "execution_count": null,
   "metadata": {},
   "outputs": [],
   "source": [
    "# 19.\n",
    "def new_string(str):\n",
    "    if len(str) >= 2 and str[:2] == \"Is\":\n",
    "        return str\n",
    "    return \"Is\" + str\n",
    "\n",
    "str = input('Input str:')\n",
    "print(new_string(str))"
   ]
  },
  {
   "cell_type": "code",
   "execution_count": null,
   "metadata": {},
   "outputs": [],
   "source": [
    "# 20.\n",
    "def copy_string(str, n):\n",
    "    rs = \"\"\n",
    "    for i in range(n):\n",
    "        rs += str\n",
    "    return rs\n",
    "\n",
    "str = input('Input string: ')\n",
    "n = int(input('Input n:'))\n",
    "print(copy_string(str, n))"
   ]
  },
  {
   "cell_type": "code",
   "execution_count": 4,
   "metadata": {},
   "outputs": [
    {
     "name": "stdout",
     "output_type": "stream",
     "text": [
      "Odd number\n"
     ]
    }
   ],
   "source": [
    "# 21.\n",
    "def isOdd(n):\n",
    "    return (n & 1)\n",
    "\n",
    "number = int(input('Input number:'))\n",
    "if isOdd(number):\n",
    "    print('Odd number')\n",
    "else:\n",
    "    print('Even number')"
   ]
  },
  {
   "cell_type": "code",
   "execution_count": 5,
   "metadata": {},
   "outputs": [
    {
     "name": "stdout",
     "output_type": "stream",
     "text": [
      "5\n"
     ]
    }
   ],
   "source": [
    "# 22.\n",
    "list = [1, 2, 3, 4, 5, 6, 7, 8, 9, 4, 5, 6, 7, 4, 4, 5, 4]\n",
    "\n",
    "def count_4_list(list):\n",
    "    count = 0  \n",
    "    for num in list:\n",
    "        if num == 4:\n",
    "            count = count + 1\n",
    "\n",
    "    return count\n",
    "\n",
    "print(count_4_list(list))"
   ]
  },
  {
   "cell_type": "code",
   "execution_count": null,
   "metadata": {},
   "outputs": [],
   "source": [
    "# 23.\n",
    "def substring_copy(str, n):\n",
    "    fLen = 2\n",
    "    if fLen > len(str):\n",
    "        fLen = len(str)\n",
    "    substr = str[:fLen]\n",
    "    \n",
    "    result = \"\"\n",
    "    for i in range(n):\n",
    "        result += substr\n",
    "    return result\n",
    "\n",
    "str = input('Input string:')\n",
    "n = int(input('Input n:'))\n",
    "\n",
    "print(substring_copy(str, n))"
   ]
  },
  {
   "cell_type": "code",
   "execution_count": null,
   "metadata": {},
   "outputs": [],
   "source": [
    "# 24.\n",
    "def is_vowel(char):\n",
    "    all_vowels = 'ueoai'\n",
    "    return char in all_vowels\n",
    "\n",
    "input_vowels = input('Input:')\n",
    "print(is_vowel(input_vowels))"
   ]
  },
  {
   "cell_type": "code",
   "execution_count": 60,
   "metadata": {},
   "outputs": [
    {
     "name": "stdout",
     "output_type": "stream",
     "text": [
      "True\n"
     ]
    }
   ],
   "source": [
    "# 25.\n",
    "list = [2, 3, 4, 5, 6, 7, 8, 9, 10, 11, 1, 2, 5, 3, 5, 6, 8]\n",
    "\n",
    "def is_group_member(group_data, mem):\n",
    "    for i in group_data:\n",
    "        if n == i:\n",
    "            return True\n",
    "    return False\n",
    "\n",
    "mem = int(input('Input mem:'))\n",
    "print(is_group_member(list, mem))"
   ]
  },
  {
   "cell_type": "code",
   "execution_count": null,
   "metadata": {},
   "outputs": [],
   "source": [
    "# 2.1 a.\n",
    "a = int(input('Nhap a:'))\n",
    "b = int(input('Nhap b:'))\n",
    "print('a + b = ', a + b)\n",
    "# b.\n",
    "print('a / b = ', a / b)\n",
    "# c.\n",
    "print('a ^ b = ', pow(a, b))\n"
   ]
  },
  {
   "cell_type": "code",
   "execution_count": null,
   "metadata": {},
   "outputs": [],
   "source": [
    "# 2.2\n",
    "a = int(input('Nhap chieu dai:'))\n",
    "b = int(input('Nhap chieu rong:'))\n",
    "\n",
    "print('Dien tich hinh CN: ', a * b)"
   ]
  },
  {
   "cell_type": "code",
   "execution_count": 15,
   "metadata": {},
   "outputs": [
    {
     "name": "stdout",
     "output_type": "stream",
     "text": [
      "11, 13, "
     ]
    }
   ],
   "source": [
    "# 2.3\n",
    "import math\n",
    "def isPrimeNumber(n):\n",
    "    if n < 2:\n",
    "        return False\n",
    "    for i in range(2, int(math.sqrt(n)) + 1):\n",
    "        if n % i == 0:\n",
    "            return False\n",
    "    return True\n",
    "\n",
    "def printPrimeNumber(a, b):\n",
    "    for i in range(a, b + 1):\n",
    "        if isPrimeNumber(i):\n",
    "            print(i, end=\", \")\n",
    "\n",
    "a = int(input(\"Nhap a: \"))\n",
    "b = int(input(\"Nhap b: \"))\n",
    "printPrimeNumber(a, b)"
   ]
  },
  {
   "cell_type": "code",
   "execution_count": 16,
   "metadata": {},
   "outputs": [
    {
     "name": "stdout",
     "output_type": "stream",
     "text": [
      "Fibonacci\n"
     ]
    }
   ],
   "source": [
    "# 2.4\n",
    "import math\n",
    "\n",
    "n = int(input('Nhap n:'))\n",
    "\n",
    "def check_perfect_square(x):\n",
    "    n = int(math.sqrt(x))\n",
    "    return n * n == x\n",
    "\n",
    "def check_fibonacci(a):\n",
    "    return check_perfect_square(5 * a * a - 4) or check_perfect_square(5*a*a + 4)\n",
    "    \n",
    "if check_fibonacci(n) == True:\n",
    "    print('Fibonacci')\n",
    "else:\n",
    "    print('Not Fibonacci')\n",
    "\n",
    "\n"
   ]
  },
  {
   "cell_type": "code",
   "execution_count": 8,
   "metadata": {},
   "outputs": [
    {
     "name": "stdout",
     "output_type": "stream",
     "text": [
      "So Fibonacci thu n la:  5\n",
      "Tong n so fibonacci dau tien la:  7\n"
     ]
    }
   ],
   "source": [
    "# 2.5\n",
    "import math\n",
    "\n",
    "# de quy\n",
    "def findFibonacci(n):\n",
    "    if n < 0: \n",
    "        print('Incorrect Input')\n",
    "    elif n == 0: \n",
    "        return 0\n",
    "    elif n == 1 or n == 2:\n",
    "        return 1\n",
    "    else:\n",
    "        return findFibonacci(n - 1) + findFibonacci(n - 2)\n",
    "\n",
    "n = int(input('Nhap n:'))\n",
    "print('So Fibonacci thu n la: ', findFibonacci(n))\n",
    "\n",
    "\n",
    "def sumOfnFibonacci(m):\n",
    "    sum  = 0\n",
    "    for i in range(m):\n",
    "        sum += findFibonacci(i)\n",
    "    return sum\n",
    "\n",
    "m = int(input('Nhap m so Fibonacci:'))\n",
    "print('Tong n so fibonacci dau tien la: ', sumOfnFibonacci(m))\n",
    "\n",
    "\n"
   ]
  },
  {
   "cell_type": "code",
   "execution_count": null,
   "metadata": {},
   "outputs": [],
   "source": [
    "# khong dung de quy\n",
    "def findFibonacci_1(n):\n",
    "    a = 0\n",
    "    b = 1\n",
    "    if n < 0:\n",
    "        print('Incorrect Input')\n",
    "    elif n == 0:\n",
    "        return 0\n",
    "    elif n == 1:\n",
    "        return b\n",
    "    else:\n",
    "        for i in range(1, n):\n",
    "            c = a + b\n",
    "            a = b\n",
    "            b = c\n",
    "        return b\n",
    "print('So Fibonacci thu n la: ', findFibonacci_1(n))\n",
    "\n",
    "def sumOfnFibonacci_1(n):\n",
    "    a = 0\n",
    "    b = 1\n",
    "    if n < 0:\n",
    "        print('Incorrect Input')\n",
    "    elif n == 0 or n == 1:\n",
    "        return n\n",
    "    else:\n",
    "        s = 0\n",
    "        while b <= n:\n",
    "            s += b\n",
    "            a, b = b, a + b\n",
    "        return s\n",
    "\n",
    "p = int(input('Nhap m so Fibonacci:'))\n",
    "print('Tong n so fibonacci dau tien la: ', sumOfnFibonacci_1(p))   "
   ]
  },
  {
   "cell_type": "code",
   "execution_count": 10,
   "metadata": {},
   "outputs": [
    {
     "name": "stdout",
     "output_type": "stream",
     "text": [
      "Tong can bac 2 cua N so nguyen duong dau tien la:  (1+0j)\n"
     ]
    }
   ],
   "source": [
    "# 2.7 Tong can bac 2 cua n so nguyen dau tien\n",
    "from cmath import sqrt\n",
    "\n",
    "def SumNFirstOfInteger(n):\n",
    "    sum = 0\n",
    "    for i in range(n):\n",
    "        sum += sqrt(i)\n",
    "    return sum\n",
    "\n",
    "n = int(input('Nhap n so nguyen dau tien: '))\n",
    "print('Tong can bac 2 cua N so nguyen duong dau tien la: ', SumNFirstOfInteger(n))\n"
   ]
  },
  {
   "cell_type": "code",
   "execution_count": null,
   "metadata": {},
   "outputs": [],
   "source": [
    "#2.8 Giải phương trình bậc 2 \n",
    "# Nhap a & b\n",
    "a = float(input(\"Nhap a:\"))\n",
    "b = float(input(\"Nhap b:\"))\n",
    "\n",
    "while True:\n",
    "    if a == 0 and b == 0:\n",
    "        print('a hoac b phai khac 0')\n",
    "        a = float(input(\"Nhap a:\"))\n",
    "        b = float(input(\"Nhap b:\"))\n",
    "    else:\n",
    "        break\n",
    "\n",
    "c = float(input(\"Nhap c:\"))\n",
    "delta = b**2 - 4*a*c\n",
    "\n",
    "if delta < 0:\n",
    "    print('Vo nghiem')\n",
    "elif delta == 0:\n",
    "    print('Nghiem kep x1 = x2 = ', -(b / (2 * a)))\n",
    "else:\n",
    "    print('PT co 2 nghiem phan biet')\n",
    "    print('x1 = ', (-(b) + math.sqrt(delta)) / (2 * a))\n",
    "    print('x2 = ', (-(b) - math.sqrt(delta)) / (2 * a))\n"
   ]
  },
  {
   "cell_type": "code",
   "execution_count": null,
   "metadata": {},
   "outputs": [],
   "source": [
    "#2.9\n",
    "def calFactorials(n):\n",
    "    fac = 1\n",
    "    if n == 0 or n == 1:\n",
    "        return fac\n",
    "    else:\n",
    "        for i in range(2, n + 1):\n",
    "            fac = fac * i\n",
    "        return fac\n",
    "n = int(input('Nhap n:'))\n",
    "print('Giai thua cua ', n, ' la: ', calFactorials(n))"
   ]
  },
  {
   "cell_type": "code",
   "execution_count": 2,
   "metadata": {},
   "outputs": [
    {
     "name": "stdout",
     "output_type": "stream",
     "text": [
      "* \n",
      "* * \n",
      "* * * \n",
      "* * * * \n",
      "* * * * * \n",
      "* * * * * * \n"
     ]
    }
   ],
   "source": [
    "#2.10 \n",
    "def drawTriangles(r):\n",
    "    for row in range(1, r + 1):\n",
    "        for col in range(1, row + 1):\n",
    "            print('*', end=' ')\n",
    "        print()\n",
    "\n",
    "r = int(input('Input rows:'))\n",
    "drawTriangles(r)"
   ]
  },
  {
   "cell_type": "code",
   "execution_count": 17,
   "metadata": {},
   "outputs": [
    {
     "name": "stdout",
     "output_type": "stream",
     "text": [
      "1 : 23 : 20\n"
     ]
    }
   ],
   "source": [
    "# 2.11\n",
    "def convertTime(s):\n",
    "    h = s // 3600\n",
    "    s = s % 3600\n",
    "    m = s // 60\n",
    "    s = s % 60\n",
    "\n",
    "    print(h ,':', m ,':', s )\n",
    "\n",
    "s = int(input('Input seconds: '))\n",
    "convertTime(s)"
   ]
  },
  {
   "cell_type": "code",
   "execution_count": 13,
   "metadata": {},
   "outputs": [
    {
     "name": "stdout",
     "output_type": "stream",
     "text": [
      "So le khong chia het cho 5 la:  [9, 7, 1, 3]\n",
      "So Fibonacci co trong mang la: [8, 1, 2, 3, 5] \n",
      "So nguyen to co trong mang la: [7, 2, 3, 5]\n",
      "So nguyen to lon nhat trong mang la: 7\n",
      "So Fibonacci nho nhat la:  1\n",
      "Trung binh cong cac so le la: 5.0 \n",
      "Tich cac phan tu so le khong chia het cho 3:  35\n",
      "Danh sach ban dau [10, 9, 8, 7, 6, 1, 2, 3, 4, 5, 6]\n",
      "Danh sach sau khi swap [9, 10, 8, 7, 6, 1, 2, 3, 4, 5, 6]\n",
      "Danh sach sau khi dao nguoc la: [6, 5, 4, 3, 2, 1, 6, 7, 8, 10, 9]\n",
      "So lon thu 2 trong danh sach la:  9\n",
      "Tong cac chu so cua tat ca cac so la:  51\n",
      "So lan xuat hien cua 3 la: 1 lan\n",
      "So xuat hien 2 lan la: 6\n",
      "So xuat hien nhieu nhat la: 6\n"
     ]
    }
   ],
   "source": [
    "import math\n",
    "current_list = [10, 9, 8, 7, 6, 1, 2, 3, 4, 5, 6]\n",
    "\n",
    "list_prime = []\n",
    "list_fib = []\n",
    "list_odd = []\n",
    "def isOdd(x):\n",
    "    return (x & 1)\n",
    "\n",
    "def listNotDivisibleBy5():\n",
    "    new_list = list(filter(lambda x: x % 5 != 0 and isOdd(x), current_list))\n",
    "    print('So le khong chia het cho 5 la: ', new_list)\n",
    "\n",
    "# Print Fibonacci\n",
    "def check_perfect_square(x):\n",
    "    n = int(math.sqrt(x))\n",
    "    return n * n == x\n",
    "\n",
    "def check_fibonacci(a):\n",
    "    return check_perfect_square(5 * a * a - 4) or check_perfect_square(5*a*a + 4)\n",
    "        \n",
    "\n",
    "def printFib():\n",
    "    print('So Fibonacci co trong mang la:', end=' ')\n",
    "    for i in current_list:\n",
    "        if check_fibonacci(i) == True:\n",
    "            list_fib.append(i)\n",
    "    print(list_fib , end=' ')\n",
    "\n",
    "# Find Max_Prime_number\n",
    "def check_prime_number(n):\n",
    "    flag = 1\n",
    "    if n < 2:\n",
    "        flag = 0\n",
    "        return flag\n",
    "    for i in range(2, n):\n",
    "        if n % i == 0:\n",
    "            flag = 0\n",
    "            break\n",
    "    return flag\n",
    "\n",
    "def check_prime_in_list():\n",
    "    print('\\nSo nguyen to co trong mang la:', end=' ')\n",
    "    for i in current_list:\n",
    "        if check_prime_number(i) == 1:\n",
    "            list_prime.append(i)\n",
    "    print(list_prime)\n",
    "\n",
    "def find_prime_max():\n",
    "    print('So nguyen to lon nhat trong mang la:', max(list_prime))\n",
    "\n",
    "def find_fib_min():\n",
    "    print('So Fibonacci nho nhat la: ', min(list_fib))\n",
    "\n",
    "def average_odd():\n",
    "    sum = 0\n",
    "    average = 0\n",
    "    for i in current_list:\n",
    "        if isOdd(i) == 1:\n",
    "            list_odd.append(i)\n",
    "\n",
    "    for i in list_odd:\n",
    "        sum += i\n",
    "\n",
    "    average = sum / len(list_odd)\n",
    "    return average\n",
    "\n",
    "def multiplication_odd_not_divisible_by3():\n",
    "    result = 1\n",
    "    list_odd_notDivisible_by3 = list(filter(lambda x: x % 3 != 0, list_odd))\n",
    "    for i in list_odd_notDivisible_by3:\n",
    "        result *= i\n",
    "    return result\n",
    "\n",
    "def swapPositions(pos1, pos2):\n",
    "    current_list[pos1], current_list[pos2] = current_list[pos2], current_list[pos1]\n",
    "    return current_list\n",
    "\n",
    "def max2Number():\n",
    "    current_list_sort = sorted(current_list)\n",
    "    print('So lon thu 2 trong danh sach la: ', current_list_sort[-2])\n",
    "\n",
    "def sumDigitsOfNumbers():\n",
    "    sum = 0\n",
    "    for i in current_list:\n",
    "        sum = sum + i % 10\n",
    "        i = int(i / 10)\n",
    "    return sum\n",
    "\n",
    "def countAppearsOfNumbers():\n",
    "    n = int(input('Nhap so can dem so lan xuat hien: '))\n",
    "    print('So lan xuat hien cua {0} la: {1} lan'.format(n, current_list.count(n) ))\n",
    "\n",
    "def printNumberAppears():\n",
    "    n = int(input('Nhap so lan xuat hien:'))\n",
    "    for i in current_list:\n",
    "        if n == current_list.count(i):\n",
    "            print('So xuat hien {0} lan la: {1}'.format(n, i))\n",
    "            break\n",
    "\n",
    "def countMaxAppearsOfNumbers():\n",
    "    counter = 0\n",
    "    num = current_list[0]\n",
    "    for i in current_list:\n",
    "        curr_frequency = current_list.count(i)\n",
    "        if curr_frequency > counter:\n",
    "            counter = curr_frequency\n",
    "            num = i\n",
    "    return num\n",
    "\n",
    "# 12.a\n",
    "listNotDivisibleBy5()\n",
    "# 12.b\n",
    "printFib()\n",
    "# 12.c\n",
    "check_prime_in_list()\n",
    "find_prime_max()\n",
    "# 12.d\n",
    "find_fib_min()\n",
    "# 12.e\n",
    "print('Trung binh cong cac so le la:', average_odd(), end=' ')\n",
    "# 12.f\n",
    "print('\\nTich cac phan tu so le khong chia het cho 3: ', multiplication_odd_not_divisible_by3())\n",
    "# 12.g\n",
    "pos1 = int(input('Input position 1: '))\n",
    "pos2 = int(input('Input position 2: '))\n",
    "print('Danh sach ban dau', current_list)\n",
    "print('Danh sach sau khi swap', swapPositions(pos1 - 1, pos2 - 1))\n",
    "# 12.h\n",
    "current_list.reverse()\n",
    "print('Danh sach sau khi dao nguoc la:', current_list)\n",
    "#12.i\n",
    "max2Number()\n",
    "#12.j\n",
    "print('Tong cac chu so cua tat ca cac so la: ', sumDigitsOfNumbers())\n",
    "#12.k\n",
    "countAppearsOfNumbers()\n",
    "#12.l\n",
    "printNumberAppears()\n",
    "# 12.m\n",
    "print('So xuat hien nhieu nhat la:',countMaxAppearsOfNumbers())"
   ]
  }
 ],
 "metadata": {
  "kernelspec": {
   "display_name": "Python 3.9.5 64-bit",
   "language": "python",
   "name": "python3"
  },
  "language_info": {
   "codemirror_mode": {
    "name": "ipython",
    "version": 3
   },
   "file_extension": ".py",
   "mimetype": "text/x-python",
   "name": "python",
   "nbconvert_exporter": "python",
   "pygments_lexer": "ipython3",
   "version": "3.9.5"
  },
  "orig_nbformat": 4,
  "vscode": {
   "interpreter": {
    "hash": "d622b05482004381a148324cc172d423d3ea331c1c275c0e889f5ca696562c1e"
   }
  }
 },
 "nbformat": 4,
 "nbformat_minor": 2
}
