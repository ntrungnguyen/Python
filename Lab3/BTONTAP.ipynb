{
 "cells": [
  {
   "cell_type": "code",
   "execution_count": 1,
   "metadata": {},
   "outputs": [
    {
     "name": "stdout",
     "output_type": "stream",
     "text": [
      "Năm lớn hơn hai!\n"
     ]
    }
   ],
   "source": [
    "#1. Tìm và sửa lỗi sai:\n",
    "if 5 > 2:\n",
    "    print(\"Năm lớn hơn hai!\")"
   ]
  },
  {
   "cell_type": "code",
   "execution_count": null,
   "metadata": {},
   "outputs": [],
   "source": [
    "#2. Bỏ kí tự bất hợp lệ ở tên biến sau:\n",
    "my_first_name = \"John\""
   ]
  },
  {
   "cell_type": "code",
   "execution_count": null,
   "metadata": {},
   "outputs": [],
   "source": [
    "##3. Thêm từ khóa để biến x thành biến toàn cục\n",
    "def myFunc():\n",
    "    global x\n",
    "    x = \"fantasic\""
   ]
  },
  {
   "cell_type": "code",
   "execution_count": 2,
   "metadata": {},
   "outputs": [
    {
     "name": "stdout",
     "output_type": "stream",
     "text": [
      "<class 'str'>\n"
     ]
    }
   ],
   "source": [
    "#4. Cho biết kết quả của chương trình sau:\n",
    "x = \"Hello World\"\n",
    "print(type(x))"
   ]
  },
  {
   "cell_type": "code",
   "execution_count": null,
   "metadata": {},
   "outputs": [],
   "source": [
    "#5. Cho biết kết quả của chương trình sau:\n",
    "x = (\"apple\", \"banana\", \"cherry\")\n",
    "print(type(x))"
   ]
  },
  {
   "cell_type": "code",
   "execution_count": 4,
   "metadata": {},
   "outputs": [],
   "source": [
    "#6. Điền vào từ khóa để chuyển x sang kiểu số thực\n",
    "x = 5\n",
    "x = float(x)"
   ]
  },
  {
   "cell_type": "code",
   "execution_count": null,
   "metadata": {},
   "outputs": [],
   "source": [
    "#7. Trả về chuỗi không có khoảng trắng ở đầu và cuối\n",
    "txt = \" Hello World \"\n",
    "x = txt.strip(' ')\n",
    "print(x)"
   ]
  },
  {
   "cell_type": "code",
   "execution_count": null,
   "metadata": {},
   "outputs": [],
   "source": [
    "#8. Thay thế ký tự H thành J\n",
    "txt = \"Hello World\"\n",
    "txt = txt.replace(\"H\", \"J\")\n",
    "print(txt)"
   ]
  },
  {
   "cell_type": "code",
   "execution_count": null,
   "metadata": {},
   "outputs": [],
   "source": [
    "#9. Điền phần còn thiếu vào chỗ trống\n",
    "age = 36\n",
    "txt = \"My name is John, and I am {0}\"\n",
    "print(txt.format(age))\n"
   ]
  },
  {
   "cell_type": "code",
   "execution_count": null,
   "metadata": {},
   "outputs": [],
   "source": [
    "#10.Cho biết kết quả của dòng lệnh\n",
    "print(bool(\"abc\"))\n",
    "##True"
   ]
  },
  {
   "cell_type": "code",
   "execution_count": null,
   "metadata": {},
   "outputs": [],
   "source": [
    "#11. Cho biết kết quả của dòng lệnh\n",
    "print(10 == 9)\n",
    "#False"
   ]
  },
  {
   "cell_type": "code",
   "execution_count": null,
   "metadata": {},
   "outputs": [],
   "source": [
    "#12.Điền từ khóa thích hợp để câu lệnh bên trong if được xuất ra màn hình:\n",
    "if 5 == 10 or 4 == 4:\n",
    "    print(\"Một trong 2 điều kiện đúng\")"
   ]
  },
  {
   "cell_type": "code",
   "execution_count": null,
   "metadata": {},
   "outputs": [],
   "source": [
    "#13.Cho biết kết quả của dòng lệnh\n",
    "#Chia lay nguyen\n",
    "print(10 // 4)"
   ]
  },
  {
   "cell_type": "code",
   "execution_count": null,
   "metadata": {},
   "outputs": [],
   "source": [
    "#14.Cho biết kết quả xuất ra của dòng lệnh\n",
    "sum = 0\n",
    "for i in range(1,10,2):\n",
    "    sum += i\n",
    "print(sum)"
   ]
  },
  {
   "cell_type": "code",
   "execution_count": null,
   "metadata": {},
   "outputs": [],
   "source": [
    "#15.Cho biết kết quả xuất ra của dòng lệnh\n",
    "i= 0\n",
    "while i < 5:\n",
    "    print(i)\n",
    "    i+= 1\n",
    "#25"
   ]
  },
  {
   "cell_type": "code",
   "execution_count": null,
   "metadata": {},
   "outputs": [],
   "source": [
    "#16.Cho biết kết quả xuất ra của dòng lệnh\n",
    "sum = 0\n",
    "for i in range(5):\n",
    "    sum += i\n",
    "print(sum)\n",
    "#10"
   ]
  },
  {
   "cell_type": "code",
   "execution_count": null,
   "metadata": {},
   "outputs": [],
   "source": [
    "#17.Thay đổi “apple” thành “kiwi” của list sau:\n",
    "fruits = [\"apple\", \"banana\", \"cherry\"]\n",
    "fruits[0] = 'kiwi'\n",
    "print(fruits)"
   ]
  },
  {
   "cell_type": "code",
   "execution_count": 30,
   "metadata": {},
   "outputs": [
    {
     "name": "stdout",
     "output_type": "stream",
     "text": [
      "['apple', 'lemon', 'cherry']\n"
     ]
    }
   ],
   "source": [
    "#18.Thêm “lemon” vào vị trí thứ 2 của danh sách\n",
    "fruits = [\"apple\", \"banana\", \"cherry\"]\n",
    "fruits[1] = \"lemon\"\n",
    "print(fruits)"
   ]
  },
  {
   "cell_type": "code",
   "execution_count": null,
   "metadata": {},
   "outputs": [],
   "source": [
    "#19.Lấy giá trị phần từ cuối cùng, dùng chỉ số âm\n",
    "fruits = [\"apple\", \"banana\", \"cherry\"]\n",
    "print(fruits[-1])\n",
    "#cherry"
   ]
  },
  {
   "cell_type": "code",
   "execution_count": null,
   "metadata": {},
   "outputs": [],
   "source": [
    "#20.Cho biết kết quả của dòng lệnh\n",
    "x = lambda a : a + 10\n",
    "print(x(5))\n",
    "#15"
   ]
  },
  {
   "cell_type": "code",
   "execution_count": null,
   "metadata": {},
   "outputs": [],
   "source": [
    "#21.Xuất phần tử thứ 3, 4, 5 của danh sách\n",
    "fruits = [\"apple\", \"banana\", \"cherry\", \"orange\", \"kiwi\",\"melon\", \"mango\"]\n",
    "print(fruits[3:6])\n",
    "#['orange', 'kiwi', 'melon']"
   ]
  },
  {
   "cell_type": "code",
   "execution_count": null,
   "metadata": {},
   "outputs": [],
   "source": [
    "#22.Cho biết kết quả của dòng lệnh\n",
    "fruits = [\"apple\", \"banana\", \"cherry\", \"orange\", \"kiwi\",\"melon\", \"mango\"]\n",
    "print(fruits[4:])\n",
    "#['kiwi', 'melon', 'mango']"
   ]
  },
  {
   "cell_type": "code",
   "execution_count": null,
   "metadata": {},
   "outputs": [],
   "source": [
    "#23.Cho dòng lệnh, viết thêm câu lệnh để thêm “lemon” vào cuối:\n",
    "fruits = {\"apple\", \"banana\", \"cherry\"}\n",
    "fruits.add(\"lemon\")"
   ]
  },
  {
   "cell_type": "code",
   "execution_count": null,
   "metadata": {},
   "outputs": [],
   "source": [
    "#24.Cho dòng lệnh, sử dụng lệnh “discard” đề xóa “banana” khỏi fruits\n",
    "fruits = {\"apple\", \"banana\", \"cherry\"}\n",
    "fruits.discard(\"banana\")"
   ]
  },
  {
   "cell_type": "code",
   "execution_count": 44,
   "metadata": {},
   "outputs": [
    {
     "name": "stdout",
     "output_type": "stream",
     "text": [
      "{'brand': 'Ford', 'model': 'Mustang', 'year': 1964, 'color': 'red'}\n"
     ]
    }
   ],
   "source": [
    "#25.Viết lệnh thêm cặp “color”:”red” vào cuối của car\n",
    "car = {\n",
    " \"brand\": \"Ford\",\n",
    " \"model\": \"Mustang\",\n",
    " \"year\": 1964\n",
    "}\n",
    "car[\"color\"] = \"red\""
   ]
  },
  {
   "cell_type": "code",
   "execution_count": null,
   "metadata": {},
   "outputs": [],
   "source": [
    "#26. Thay đổi năm từ 1964 -> 2020\n",
    "car = {\n",
    " \"brand\": \"Ford\",\n",
    " \"model\": \"Mustang\",\n",
    " \"year\": 1964\n",
    "}\n",
    "car[\"year\"] = 2020"
   ]
  },
  {
   "cell_type": "code",
   "execution_count": null,
   "metadata": {},
   "outputs": [],
   "source": [
    "#27.Điền vào chỗ trống để khi i = 3 sẽ nhảy tới vòng lăp tiếp theo\n",
    "i = 0\n",
    "while i < 6:\n",
    "    i += 1\n",
    "    if i == 3:\n",
    "        continue\n",
    "print(i)\n"
   ]
  },
  {
   "cell_type": "code",
   "execution_count": null,
   "metadata": {},
   "outputs": [],
   "source": [
    "#28 Điền tham số thích hợp vào chỗ trống\n",
    "def my_function(kids):\n",
    "    print(\"The youngest child is \" + kids[2])\n",
    "my_function(\"asd\")\n"
   ]
  },
  {
   "cell_type": "code",
   "execution_count": null,
   "metadata": {},
   "outputs": [],
   "source": [
    "#29.Hãy tạo một đối tượng của lớp MyClass có tên p1\n",
    "class MyClass:\n",
    "    x = 5\n",
    "p1 = MyClass()"
   ]
  },
  {
   "cell_type": "code",
   "execution_count": null,
   "metadata": {},
   "outputs": [],
   "source": [
    "#30.Điền từ thích hợp vào chỗ trống\n",
    "class Person:\n",
    "    def __init__(self, name, age):\n",
    "        self.name = name\n",
    "        self.age = age"
   ]
  },
  {
   "cell_type": "code",
   "execution_count": null,
   "metadata": {},
   "outputs": [],
   "source": [
    "#31.Cho biết kết quả của dòng lệnh\n",
    "def myfunc(n):\n",
    "    return lambda a : a * n\n",
    "mydoubler = myfunc(2)\n",
    "print(mydoubler(11))\n",
    "#22"
   ]
  },
  {
   "cell_type": "code",
   "execution_count": null,
   "metadata": {},
   "outputs": [],
   "source": [
    "#32.Cho list1 = [3, 4, 5, 20, 5, 25, 1, 3] , cho biết giá trị của list1 sau khi thực hiện lệnh list1.pop(1)?\n",
    "list1 = [3, 4, 5, 20, 5, 25, 1, 3]\n",
    "list1.pop(1)\n",
    "print(list1)\n",
    "#Xóa giá trị tại vị trí thứ 2 \n",
    "#Nếu không truyền index thì mặc định nó sẽ xóa phần tử cuối cùng của List."
   ]
  },
  {
   "cell_type": "code",
   "execution_count": null,
   "metadata": {},
   "outputs": [],
   "source": [
    "#33. time.time() trả về __________________________________________\n",
    "# Hàm time() trả về số giây tính từ epoch, hay còn gọi là giá trị timestamp\n",
    "# Đối với hệ thống Unix, 00:00:00 ngày 1/1/1970 theo giờ UTC được gọi là epoch (thời điểm bắt đầu thời gian).\n",
    "from time import time\n",
    "print(time())"
   ]
  },
  {
   "cell_type": "code",
   "execution_count": null,
   "metadata": {},
   "outputs": [],
   "source": [
    "#34. Hàm được định nghĩa bên trong lớp (class) được gọi là _________ : Function"
   ]
  },
  {
   "cell_type": "code",
   "execution_count": null,
   "metadata": {},
   "outputs": [],
   "source": [
    "# 35. Toán tử nào là quá tải hàm của hàm or()\n",
    "# a. ||\n",
    "# b. |\n",
    "# c. //\n",
    "# d. /\n",
    "#Câu a: ||"
   ]
  },
  {
   "cell_type": "code",
   "execution_count": null,
   "metadata": {},
   "outputs": [],
   "source": [
    "# 36. Kết quả đầu ra của đoạn chương trình sau:\n",
    "i = 0\n",
    "while i < 3:\n",
    "    print(i)\n",
    "    i+= 1\n",
    "print(i+1)\n",
    "#4"
   ]
  },
  {
   "cell_type": "code",
   "execution_count": null,
   "metadata": {},
   "outputs": [],
   "source": [
    "#37. Kết quả đầu ra của đoạn chương trình sau:\n",
    "print(\"Dalat university\"[::-1])\n",
    "#ytisrevinu talaD\n"
   ]
  },
  {
   "cell_type": "code",
   "execution_count": null,
   "metadata": {},
   "outputs": [],
   "source": [
    "# 38.Một hàm không trả về giá trị nào, giá trị trả về được nhìn thấy khi gọi hàm hoặc khi hàm được thực thi tại shell là gì?\n",
    "# a. int\n",
    "# b. bool\n",
    "# c. void\n",
    "# d. None\n",
    "#Câu D: none"
   ]
  },
  {
   "cell_type": "code",
   "execution_count": null,
   "metadata": {},
   "outputs": [],
   "source": [
    "#39.Kết quả xuất ra của đoạn chương trình sau\n",
    "print(0.1 + 0.2 == 0.3)\n",
    "#False"
   ]
  },
  {
   "cell_type": "code",
   "execution_count": null,
   "metadata": {},
   "outputs": [],
   "source": [
    "# 40. ~~~~~~5 tương đương với giá trị nào?\n",
    "# a. +5\n",
    "# b. -6\n",
    "# c. +6\n",
    "# d. -5\n",
    "#Câu a: 5"
   ]
  },
  {
   "cell_type": "code",
   "execution_count": null,
   "metadata": {},
   "outputs": [],
   "source": [
    "# 41. ~~~18 tương đương với giá trị nào\n",
    "# a. 18\n",
    "# b. 19\n",
    "# c. -19\n",
    "# d. -18\n",
    "#Câu C: -19"
   ]
  },
  {
   "cell_type": "code",
   "execution_count": null,
   "metadata": {},
   "outputs": [],
   "source": [
    "# 42.Cho s = “Welcome”, biểu thức nào sau đây không đúng\n",
    "# a. print(s[0])\n",
    "# b. print(s.lower())\n",
    "# c. print(s.strip())\n",
    "# d. s[1]= a\n",
    "#Câu D: s[1] = a"
   ]
  },
  {
   "cell_type": "code",
   "execution_count": null,
   "metadata": {},
   "outputs": [],
   "source": [
    "# 43.Để chạy python ở chế độ dòng lệnh, sử dụng lệnh ___________\n",
    "# a. excute python\n",
    "# b. run python\n",
    "# c. python\n",
    "# d. go python\n",
    "#Câu C: python"
   ]
  },
  {
   "cell_type": "code",
   "execution_count": null,
   "metadata": {},
   "outputs": [],
   "source": [
    "# 44.Đâu không phải kiểu dữ liệu gốc\n",
    "# a. Tuples\n",
    "# b. Dictionary\n",
    "# c. Lists\n",
    "# d. Class\n",
    "#Câu D: Class"
   ]
  },
  {
   "cell_type": "code",
   "execution_count": null,
   "metadata": {},
   "outputs": [],
   "source": [
    "# 45.Kiểu dữ liệu của L là gì?\n",
    "#L = [1, 23, \"Hello\", 1]\n",
    "#List"
   ]
  },
  {
   "cell_type": "code",
   "execution_count": null,
   "metadata": {},
   "outputs": [],
   "source": [
    "# 46. Cho biết kết quả xuất ra của chương trình sau:\n",
    "nameList = ['Harsh', 'Pratik', 'Bob', 'Dhruv']\n",
    "pos = nameList.index(\"Bob\")\n",
    "print(pos * 3)\n",
    "#6"
   ]
  },
  {
   "cell_type": "code",
   "execution_count": null,
   "metadata": {},
   "outputs": [],
   "source": [
    "#47. Cho biết kết quả xuất ra của chương trình sau:\n",
    "D = dict()\n",
    "for x in enumerate(range(2)):\n",
    "    D[x[0]] = x[1]\n",
    "    D[x[1]+7] = x[0]\n",
    "print(D)\n",
    "#{0: 0, 7: 0, 1: 1, 8: 1}"
   ]
  },
  {
   "cell_type": "code",
   "execution_count": null,
   "metadata": {},
   "outputs": [],
   "source": [
    "#48. Cho biết kết quả xuất ra của chương trình sau:\n",
    "a = {i: i * i for i in range(6)}\n",
    "print(a)\n",
    "#{0: 0, 1: 1, 2: 4, 3: 9, 4: 16, 5: 25}"
   ]
  }
 ],
 "metadata": {
  "kernelspec": {
   "display_name": "Python 3.10.6 64-bit",
   "language": "python",
   "name": "python3"
  },
  "language_info": {
   "codemirror_mode": {
    "name": "ipython",
    "version": 3
   },
   "file_extension": ".py",
   "mimetype": "text/x-python",
   "name": "python",
   "nbconvert_exporter": "python",
   "pygments_lexer": "ipython3",
   "version": "3.10.6"
  },
  "orig_nbformat": 4,
  "vscode": {
   "interpreter": {
    "hash": "3bc1a11519d29b3ed6f08646f3ece60640217e649724c6bcfd38e1173c1a1bce"
   }
  }
 },
 "nbformat": 4,
 "nbformat_minor": 2
}
