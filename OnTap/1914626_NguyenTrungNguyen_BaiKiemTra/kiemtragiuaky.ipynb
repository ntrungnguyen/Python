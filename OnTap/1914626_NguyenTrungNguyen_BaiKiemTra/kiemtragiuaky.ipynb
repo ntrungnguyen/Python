{
 "cells": [
  {
   "cell_type": "code",
   "execution_count": 2,
   "metadata": {},
   "outputs": [
    {
     "name": "stdout",
     "output_type": "stream",
     "text": [
      "Kết quả\n",
      "4 + 3 =  7\n",
      "4 lũy thừa 3 =  64\n"
     ]
    }
   ],
   "source": [
    "# Câu 1 (1 điểm): Viết chương trình cho phép người dùng nhập vào 2 số nguyên và xuất ra\n",
    "# phép cộng và phép lũy thừa của 2 số đó như sau:\n",
    "\n",
    "n = int(input('Nhập vào số thứ nhất: '))\n",
    "m = int(input('Nhập vào số thứ hai: '))\n",
    "print('Kết quả')\n",
    "print(f'{n} + {m} =', n+m)\n",
    "print(f'{n} lũy thừa {m} =', n**m)\n",
    "\n"
   ]
  },
  {
   "cell_type": "code",
   "execution_count": 15,
   "metadata": {},
   "outputs": [
    {
     "data": {
      "text/plain": [
       "1897"
      ]
     },
     "execution_count": 15,
     "metadata": {},
     "output_type": "execute_result"
    }
   ],
   "source": [
    "# Câu 2 (1 điểm) Viết chương trình xuất ra số đảo ngược của một số nguyên cho trước\n",
    "# (không chuyển thành chuỗi rồi đảo ngược)\n",
    "n = 7981\n",
    "\n",
    "def reverse(num):\n",
    "  rev = 0\n",
    "  while num > 0:\n",
    "    rev = (10*rev) + num%10\n",
    "    num //= 10\n",
    "  return rev\n",
    "reverse(n)"
   ]
  },
  {
   "cell_type": "code",
   "execution_count": 16,
   "metadata": {},
   "outputs": [
    {
     "name": "stdout",
     "output_type": "stream",
     "text": [
      "Kết quả của số 140 chia cho 3 là 46.67\n"
     ]
    }
   ],
   "source": [
    "# Câu 3 (1 điểm) Viết chương trình cho nhập vào 2 số nguyên a, b bất kỳ. Yêu cầu người\n",
    "# dùng nhập 1 số nằm trong đoạn [a, b] (hoặc [b,a] nếu b < a), xuất ra màn hình kết quả của\n",
    "# số đó chia cho 3, lấy 2 số thập phân. Nếu nhập sai yêu cầu thì người dùng phải nhập lại.\n",
    "range1 = int(input('Nhập vào số thứ nhất: '))\n",
    "range2 = int(input('Nhập vào số thứ hai: '))\n",
    "\n",
    "if(range1 > range2):\n",
    "    num = int(input(f'Nhập vào một số trong đoạn [{range2},{range1}]: '))\n",
    "    while num < range2 or num > range1:\n",
    "        num = int(input(f'Nhập vào một số trong đoạn [{range2},{range1}]: '))\n",
    "    print(f'Kết quả của số {num} chia cho 3 là {round(num/3,2)}')\n",
    "else:\n",
    "    num = int(input(f'Nhập vào một số trong đoạn [{range1},{range2}]: '))\n",
    "    while num < range1 or num > range2:\n",
    "        num = int(input(f'Nhập vào một số trong đoạn [{range1},{range2}]: '))\n",
    "    print(f'Kết quả của số {num} chia cho 3 là {round(num/3,2)}')"
   ]
  },
  {
   "cell_type": "code",
   "execution_count": 19,
   "metadata": {},
   "outputs": [
    {
     "name": "stdout",
     "output_type": "stream",
     "text": [
      "[9, 27, 92, 38, 45]\n"
     ]
    }
   ],
   "source": [
    "# Câu 4 (1 điểm): cho ds = [2, 9, 34, 27, 49, 92, 81, 38, 14, 45]. Xuất các số ở vị trí chẵn\n",
    "# trong danh sách trên, kết quả là:\n",
    "\n",
    "ds = [2, 9, 34, 27, 49, 92, 81, 38, 14, 45]\n",
    "l = ds[1::2]\n",
    "print(l)"
   ]
  },
  {
   "cell_type": "code",
   "execution_count": 24,
   "metadata": {},
   "outputs": [
    {
     "ename": "ModuleNotFoundError",
     "evalue": "No module named 'numpy'",
     "output_type": "error",
     "traceback": [
      "\u001b[1;31m---------------------------------------------------------------------------\u001b[0m",
      "\u001b[1;31mModuleNotFoundError\u001b[0m                       Traceback (most recent call last)",
      "Cell \u001b[1;32mIn [24], line 8\u001b[0m\n\u001b[0;32m      1\u001b[0m \u001b[38;5;66;03m# Câu 6 (2 điểm): Cho ma trận\u001b[39;00m\n\u001b[0;32m      2\u001b[0m \u001b[38;5;66;03m# 11, 22, 35, 20\u001b[39;00m\n\u001b[0;32m      3\u001b[0m \u001b[38;5;66;03m# 45,28,39, 70\u001b[39;00m\n\u001b[1;32m   (...)\u001b[0m\n\u001b[0;32m      6\u001b[0m \u001b[38;5;66;03m# • Xuất 2 phần tử cuối của mỗi hàng\u001b[39;00m\n\u001b[0;32m      7\u001b[0m \u001b[38;5;66;03m# • Sắp xếp các hàng theo thứ tự tăng dần\u001b[39;00m\n\u001b[1;32m----> 8\u001b[0m \u001b[38;5;28;01mimport\u001b[39;00m \u001b[38;5;21;01mnumpy\u001b[39;00m \u001b[38;5;28;01mas\u001b[39;00m \u001b[38;5;21;01mnp\u001b[39;00m\n\u001b[0;32m     10\u001b[0m A \u001b[38;5;241m=\u001b[39m [[\u001b[38;5;241m11\u001b[39m,\u001b[38;5;241m22\u001b[39m,\u001b[38;5;241m35\u001b[39m,\u001b[38;5;241m20\u001b[39m],[\u001b[38;5;241m45\u001b[39m,\u001b[38;5;241m28\u001b[39m,\u001b[38;5;241m39\u001b[39m,\u001b[38;5;241m70\u001b[39m],[\u001b[38;5;241m3\u001b[39m,\u001b[38;5;241m9\u001b[39m,\u001b[38;5;241m13\u001b[39m,\u001b[38;5;241m17\u001b[39m]]\n\u001b[0;32m     11\u001b[0m \u001b[38;5;28mprint\u001b[39m(A)\n",
      "\u001b[1;31mModuleNotFoundError\u001b[0m: No module named 'numpy'"
     ]
    }
   ],
   "source": [
    "# Câu 6 (2 điểm): Cho ma trận\n",
    "# 11, 22, 35, 20\n",
    "# 45,28,39, 70\n",
    "# 3, 9, 13, 17\n",
    "# • Hãy đưa về dạng mảng dùng thư viện numpy\n",
    "# • Xuất 2 phần tử cuối của mỗi hàng\n",
    "# • Sắp xếp các hàng theo thứ tự tăng dần\n",
    "import numpy as np\n",
    "\n",
    "A = [[11,22,35,20],[45,28,39,70],[3,9,13,17]]\n",
    "print(A)\n",
    "\n",
    "arr = np.array(A)\n",
    "\n",
    "print(f'Phần tử cuối cùng mỗi hàng: {arr[0:,-1]}')\n",
    "arr[0:].sort()\n",
    "print(arr[0:].sort())"
   ]
  },
  {
   "cell_type": "code",
   "execution_count": null,
   "metadata": {},
   "outputs": [],
   "source": []
  }
 ],
 "metadata": {
  "kernelspec": {
   "display_name": "Python 3.9.5 64-bit",
   "language": "python",
   "name": "python3"
  },
  "language_info": {
   "codemirror_mode": {
    "name": "ipython",
    "version": 3
   },
   "file_extension": ".py",
   "mimetype": "text/x-python",
   "name": "python",
   "nbconvert_exporter": "python",
   "pygments_lexer": "ipython3",
   "version": "3.9.5"
  },
  "orig_nbformat": 2,
  "vscode": {
   "interpreter": {
    "hash": "d622b05482004381a148324cc172d423d3ea331c1c275c0e889f5ca696562c1e"
   }
  }
 },
 "nbformat": 4,
 "nbformat_minor": 2
}
